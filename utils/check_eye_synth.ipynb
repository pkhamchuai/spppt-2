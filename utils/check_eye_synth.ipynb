{
 "cells": [
  {
   "cell_type": "code",
   "execution_count": 1,
   "metadata": {},
   "outputs": [],
   "source": [
    "# read csv file and check the transformation parameters\n",
    "\n",
    "import pandas as pd\n",
    "import numpy as np\n",
    "import matplotlib.pyplot as plt\n",
    "from PIL import Image\n",
    "import os\n",
    "import cv2"
   ]
  },
  {
   "cell_type": "code",
   "execution_count": 2,
   "metadata": {},
   "outputs": [],
   "source": [
    "img_dir_train = \"Dataset/synthetic_eye_dataset_train\"\n",
    "img_dir_test = \"Dataset/synthetic_eye_dataset_test\"\n",
    "plot_dir_train = img_dir_train + \"/plot_check\"\n",
    "os.makedirs(plot_dir_train, exist_ok=True)\n"
   ]
  },
  {
   "cell_type": "code",
   "execution_count": 3,
   "metadata": {},
   "outputs": [
    {
     "name": "stdout",
     "output_type": "stream",
     "text": [
      "     imageID  translate1  translate2    rotate     shear     scale  \\\n",
      "0  img_1.png           3         -18 -6.317746 -4.186197  1.077851   \n",
      "1  img_2.png           2          -4 -5.896709 -0.777749  1.027423   \n",
      "2  img_3.png           8          -7 -5.018445 -2.608320  1.019095   \n",
      "3  img_4.png           9         -12 -3.553673 -3.405246  1.001389   \n",
      "4  img_5.png          11          16 -5.174494 -4.007154  1.097619   \n",
      "\n",
      "                                             imgName  \n",
      "0  Dataset/Dataset-processed/15-12-2559/2011248/L...  \n",
      "1  Dataset/Dataset-processed/15-12-2559/2011248/R...  \n",
      "2  Dataset/Dataset-processed/15-12-2559/2011248/R...  \n",
      "3  Dataset/Dataset-processed/15-12-2559/2011248/R...  \n",
      "4  Dataset/Dataset-processed/15-12-2559/2011248/R...  \n"
     ]
    }
   ],
   "source": [
    "# read csv file\n",
    "df = pd.read_csv('synthetic_dataset_eye_train.csv')\n",
    "# specify the header\n",
    "df.columns = ['imageID', 'translate1', 'translate2', 'rotate', 'shear', 'scale', \\\n",
    "              'imgName']\n",
    "print(df.head())"
   ]
  },
  {
   "cell_type": "code",
   "execution_count": 4,
   "metadata": {},
   "outputs": [],
   "source": [
    "def check_train():\n",
    "    # load the image, transform, and plot comparing with the saved transformed image\n",
    "    for i in range(100):\n",
    "        img_path = img_dir_train + '/' + df['imageID'][i]\n",
    "        img_path_transformed = img_path[:-4] + \"_transformed.png\"\n",
    "\n",
    "        # read the transformation parameters\n",
    "        translation = (df['translate1'][i], df['translate2'][i])\n",
    "        rotation = df['rotate'][i]\n",
    "        shear = df['shear'][i]\n",
    "        scale = df['scale'][i]\n",
    "            \n",
    "        image = cv2.imread(img_path)\n",
    "        image_transformed_to_check = cv2.imread(img_path_transformed)\n",
    "\n",
    "        # Apply affine transformations from csv and save the transformed image (cv2)\n",
    "        rows, cols, ch = image.shape\n",
    "        # Calculate the affine matrix from the parameters\n",
    "        M = cv2.getRotationMatrix2D((cols / 2, rows / 2), rotation, scale)\n",
    "        M[0, 1] = np.tan(np.radians(shear))\n",
    "        M[1, 0] = np.tan(np.radians(shear))\n",
    "        M[0, 2] = translation[0]\n",
    "        M[1, 2] = translation[1]\n",
    "\n",
    "        # Apply the affine transformation to the original image\n",
    "        image_transformed = cv2.warpAffine(image, M, (cols, rows), flags=cv2.INTER_LINEAR, borderMode=cv2.BORDER_CONSTANT, borderValue=0)\n",
    "\n",
    "        # plot subplots of 1 row 3 columns\n",
    "        fig, axs = plt.subplots(1, 3, figsize=(15, 5))\n",
    "        axs[0].imshow(image, cmap='gray')\n",
    "        axs[0].set_title('Original Image')\n",
    "        axs[1].imshow(image_transformed, cmap='gray')\n",
    "        axs[1].set_title('Transformed Image (from csv)')\n",
    "        axs[2].imshow(image_transformed_to_check, cmap='gray')\n",
    "        axs[2].set_title('Transformed Image (saved file)')\n",
    "        # remove the x and y ticks from images 2 and 3\n",
    "        axs[1].set_xticks([])\n",
    "        axs[1].set_yticks([])\n",
    "        axs[2].set_xticks([])\n",
    "        axs[2].set_yticks([])\n",
    "        #print(plot_dir_train + \"/plot_check_\" + str(i) + \".png\")\n",
    "        plt.savefig(plot_dir_train + \"/plot_check_\" + str(i) + \".png\") \n",
    "        plt.close()\n",
    "\n",
    "# check_train()"
   ]
  },
  {
   "cell_type": "code",
   "execution_count": 5,
   "metadata": {},
   "outputs": [
    {
     "name": "stdout",
     "output_type": "stream",
     "text": [
      "     imageID  translate1  translate2    rotate     shear     scale  \\\n",
      "0  img_1.png         -15          -7  2.635610 -4.573204  1.074673   \n",
      "1  img_2.png          10          12  8.621907 -2.702845  1.054428   \n",
      "2  img_3.png         -11           9 -5.442671  1.483366  1.008904   \n",
      "3  img_4.png           4          18  5.739807 -4.118525  1.072196   \n",
      "4  img_5.png           0          10 -0.253869 -2.553542  1.059288   \n",
      "\n",
      "                                             imgName  \n",
      "0  Dataset/Dataset-processed/15-12-2559/2011248/L...  \n",
      "1  Dataset/Dataset-processed/06-10-2560/c2/011025...  \n",
      "2  Dataset/Dataset-processed/30-12-2559/2477598/b...  \n",
      "3  Dataset/Dataset-processed/30-12-2559/2477598/b...  \n",
      "4  Dataset/Dataset-processed/30-12-2559/2477598/b...  \n"
     ]
    }
   ],
   "source": [
    "plot_dir_test = img_dir_test + \"/plot_check\"\n",
    "os.makedirs(plot_dir_test, exist_ok=True)\n",
    "\n",
    "# read csv file\n",
    "df = pd.read_csv('synthetic_dataset_eye_test.csv')\n",
    "# specify the header\n",
    "df.columns = ['imageID', 'translate1', 'translate2', 'rotate', 'shear', 'scale', \\\n",
    "              'imgName']\n",
    "print(df.head())"
   ]
  },
  {
   "cell_type": "code",
   "execution_count": 6,
   "metadata": {},
   "outputs": [],
   "source": [
    "def check_test():\n",
    "    # load the image, transform, and plot comparing with the saved transformed image\n",
    "    for i in range(100):\n",
    "        img_path = img_dir_test + '/' + df['imageID'][i]\n",
    "        img_path_transformed = img_path[:-4] + \"_transformed.png\"\n",
    "\n",
    "        # read the transformation parameters\n",
    "        translation = (df['translate1'][i], df['translate2'][i])\n",
    "        rotation = df['rotate'][i]\n",
    "        shear = df['shear'][i]\n",
    "        scale = df['scale'][i]\n",
    "            \n",
    "        image = cv2.imread(img_path)\n",
    "        image_transformed_to_check = cv2.imread(img_path_transformed)\n",
    "\n",
    "        # Apply affine transformations from csv and save the transformed image (cv2)\n",
    "        rows, cols, _ = image.shape\n",
    "        # Calculate the affine matrix from the parameters\n",
    "        M = cv2.getRotationMatrix2D((cols / 2, rows / 2), rotation, scale)\n",
    "        M[0, 1] = np.tan(np.radians(shear))\n",
    "        M[1, 0] = np.tan(np.radians(shear))\n",
    "        M[0, 2] = translation[0]\n",
    "        M[1, 2] = translation[1]\n",
    "\n",
    "        # Apply the affine transformation to the original image\n",
    "        image_transformed = cv2.warpAffine(image, M, (cols, rows), flags=cv2.INTER_LINEAR, borderMode=cv2.BORDER_CONSTANT, borderValue=0)\n",
    "\n",
    "        # plot subplots of 1 row 3 columns\n",
    "        fig, axs = plt.subplots(1, 3, figsize=(15, 5))\n",
    "        axs[0].imshow(image, cmap='gray')\n",
    "        axs[0].set_title('Original Image')\n",
    "        axs[1].imshow(image_transformed, cmap='gray')\n",
    "        axs[1].set_title('Transformed Image (from csv)')\n",
    "        axs[2].imshow(image_transformed_to_check, cmap='gray')\n",
    "        axs[2].set_title('Transformed Image (saved file)')\n",
    "        # remove the x and y ticks from images 2 and 3\n",
    "        axs[1].set_xticks([])\n",
    "        axs[1].set_yticks([])\n",
    "        axs[2].set_xticks([])\n",
    "        axs[2].set_yticks([])\n",
    "        plt.savefig(plot_dir_test + \"/plot_check_\" + str(i) + \".png\") \n",
    "        plt.close()\n",
    "\n",
    "check_test()"
   ]
  },
  {
   "cell_type": "code",
   "execution_count": null,
   "metadata": {},
   "outputs": [],
   "source": []
  }
 ],
 "metadata": {
  "kernelspec": {
   "display_name": "spppt",
   "language": "python",
   "name": "python3"
  },
  "language_info": {
   "codemirror_mode": {
    "name": "ipython",
    "version": 3
   },
   "file_extension": ".py",
   "mimetype": "text/x-python",
   "name": "python",
   "nbconvert_exporter": "python",
   "pygments_lexer": "ipython3",
   "version": "3.8.17"
  },
  "orig_nbformat": 4
 },
 "nbformat": 4,
 "nbformat_minor": 2
}
