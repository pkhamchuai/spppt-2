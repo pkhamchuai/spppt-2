{
 "cells": [
  {
   "cell_type": "code",
   "execution_count": 1,
   "metadata": {},
   "outputs": [
    {
     "name": "stdout",
     "output_type": "stream",
     "text": [
      "output/SP_AffineNet1_alt_21100_0.0001_0_10_1_20231108-143907_test/metrics.csv\n",
      "output/SP_AffineNet1_alt_11100_0.0001_0_20_1_20231108-094956_test/metrics.csv\n",
      "output/SP_AffineNet1_alt_21100_0.0001_0_10_1_20231108-150147_test/metrics.csv\n"
     ]
    }
   ],
   "source": [
    "import os\n",
    "import glob\n",
    "import pandas as pd\n",
    "\n",
    "# Define the path to the folder containing the CSV files\n",
    "path = 'output/'\n",
    "\n",
    "# Use glob to grab all CSV files in the folder and its subfolders\n",
    "csv_files = glob.glob(os.path.join(path, '**/*.csv'), recursive=True)\n",
    "\n",
    "# Loop through the CSV files and read them into pandas dataframes\n",
    "dfs = []\n",
    "for file in csv_files:\n",
    "    # df = pd.read_csv(file)\n",
    "    # dfs.append(df)\n",
    "    print(file)\n",
    "\n",
    "# sort the files by name\n",
    "dfs.sort(key=lambda x: x.name)"
   ]
  },
  {
   "cell_type": "code",
   "execution_count": 4,
   "metadata": {},
   "outputs": [],
   "source": [
    "out = pd.read_csv('output/SP_AffineNet1_alt_21100_0.0001_0_10_1_20231108-150147_test/metrics.csv')\n",
    "# out = out.drop(columns=['Unnamed: 0'])\n",
    "\n",
    "# calculate the mean and std of the metrics, write to the last row of the same csv file\n",
    "out.loc['mean'] = out.mean()\n",
    "out.loc['std'] = out.std()\n",
    "out.to_csv('output/SP_AffineNet1_alt_21100_0.0001_0_10_1_20231108-150147_test/metrics.csv')"
   ]
  },
  {
   "cell_type": "code",
   "execution_count": 3,
   "metadata": {},
   "outputs": [],
   "source": [
    "ours_0_5_1 = pd.read_csv(\"output/11100_0.001_0_5_1_20231031-133151_test/metrics.csv\")\n",
    "ours_0_5_2 = pd.read_csv(\"output/11100_0.001_0_5_1_20231031-133413_test/metrics.csv\")\n",
    "\n",
    "ours_5_10_unsup_dataset0 = pd.read_csv(\"output/00100_0.001_5_10_1_20231031-134455_test/metrics.csv\")\n",
    "ours_5_10_unsup_dataset1 = pd.read_csv(\"output/10100_0.001_5_10_1_20231031-134323_test/metrics.csv\")"
   ]
  },
  {
   "cell_type": "code",
   "execution_count": 3,
   "metadata": {},
   "outputs": [
    {
     "data": {
      "text/html": [
       "<div>\n",
       "<style scoped>\n",
       "    .dataframe tbody tr th:only-of-type {\n",
       "        vertical-align: middle;\n",
       "    }\n",
       "\n",
       "    .dataframe tbody tr th {\n",
       "        vertical-align: top;\n",
       "    }\n",
       "\n",
       "    .dataframe thead th {\n",
       "        text-align: right;\n",
       "    }\n",
       "</style>\n",
       "<table border=\"1\" class=\"dataframe\">\n",
       "  <thead>\n",
       "    <tr style=\"text-align: right;\">\n",
       "      <th></th>\n",
       "      <th>index</th>\n",
       "      <th>mse_before</th>\n",
       "      <th>mse12</th>\n",
       "      <th>tre_before</th>\n",
       "      <th>tre12</th>\n",
       "      <th>mse12_image_before</th>\n",
       "      <th>mse12_image</th>\n",
       "      <th>ssim12_image_before</th>\n",
       "      <th>ssim12_image</th>\n",
       "    </tr>\n",
       "  </thead>\n",
       "  <tbody>\n",
       "    <tr>\n",
       "      <th>0</th>\n",
       "      <td>0</td>\n",
       "      <td>131.369565</td>\n",
       "      <td>245.415752</td>\n",
       "      <td>16.156405</td>\n",
       "      <td>22.024622</td>\n",
       "      <td>0.031962</td>\n",
       "      <td>0.038821</td>\n",
       "      <td>0.286426</td>\n",
       "      <td>0.269224</td>\n",
       "    </tr>\n",
       "    <tr>\n",
       "      <th>1</th>\n",
       "      <td>1</td>\n",
       "      <td>268.943182</td>\n",
       "      <td>366.746459</td>\n",
       "      <td>23.095541</td>\n",
       "      <td>26.991879</td>\n",
       "      <td>0.048232</td>\n",
       "      <td>0.054140</td>\n",
       "      <td>0.247948</td>\n",
       "      <td>0.253087</td>\n",
       "    </tr>\n",
       "    <tr>\n",
       "      <th>2</th>\n",
       "      <td>2</td>\n",
       "      <td>367.637931</td>\n",
       "      <td>305.599963</td>\n",
       "      <td>27.079055</td>\n",
       "      <td>24.439393</td>\n",
       "      <td>0.013041</td>\n",
       "      <td>0.011939</td>\n",
       "      <td>0.500452</td>\n",
       "      <td>0.540081</td>\n",
       "    </tr>\n",
       "    <tr>\n",
       "      <th>3</th>\n",
       "      <td>3</td>\n",
       "      <td>35.643750</td>\n",
       "      <td>29.418995</td>\n",
       "      <td>8.392475</td>\n",
       "      <td>7.597954</td>\n",
       "      <td>0.005899</td>\n",
       "      <td>0.005888</td>\n",
       "      <td>0.534967</td>\n",
       "      <td>0.542999</td>\n",
       "    </tr>\n",
       "    <tr>\n",
       "      <th>4</th>\n",
       "      <td>4</td>\n",
       "      <td>257.835294</td>\n",
       "      <td>363.745695</td>\n",
       "      <td>22.648766</td>\n",
       "      <td>26.890180</td>\n",
       "      <td>0.017294</td>\n",
       "      <td>0.019936</td>\n",
       "      <td>0.323983</td>\n",
       "      <td>0.340576</td>\n",
       "    </tr>\n",
       "  </tbody>\n",
       "</table>\n",
       "</div>"
      ],
      "text/plain": [
       "   index  mse_before       mse12  tre_before      tre12  mse12_image_before  \\\n",
       "0      0  131.369565  245.415752   16.156405  22.024622            0.031962   \n",
       "1      1  268.943182  366.746459   23.095541  26.991879            0.048232   \n",
       "2      2  367.637931  305.599963   27.079055  24.439393            0.013041   \n",
       "3      3   35.643750   29.418995    8.392475   7.597954            0.005899   \n",
       "4      4  257.835294  363.745695   22.648766  26.890180            0.017294   \n",
       "\n",
       "   mse12_image  ssim12_image_before  ssim12_image  \n",
       "0     0.038821             0.286426      0.269224  \n",
       "1     0.054140             0.247948      0.253087  \n",
       "2     0.011939             0.500452      0.540081  \n",
       "3     0.005888             0.534967      0.542999  \n",
       "4     0.019936             0.323983      0.340576  "
      ]
     },
     "execution_count": 3,
     "metadata": {},
     "output_type": "execute_result"
    }
   ],
   "source": [
    "ours_0_5.head()"
   ]
  },
  {
   "cell_type": "code",
   "execution_count": 10,
   "metadata": {},
   "outputs": [
    {
     "name": "stdout",
     "output_type": "stream",
     "text": [
      "Mean\n",
      "index                   54.000000\n",
      "mse_before             221.675954\n",
      "mse12                  218.086978\n",
      "tre_before              19.874568\n",
      "tre12                   19.691369\n",
      "mse12_image_before       0.022734\n",
      "mse12_image              0.022369\n",
      "ssim12_image_before      0.408081\n",
      "ssim12_image             0.429739\n",
      "dtype: float64 \n",
      "\n",
      "Std\n",
      "index                   31.609598\n",
      "mse_before             125.276571\n",
      "mse12                  126.412198\n",
      "tre_before               6.869723\n",
      "tre12                    6.778475\n",
      "mse12_image_before       0.010642\n",
      "mse12_image              0.011155\n",
      "ssim12_image_before      0.105780\n",
      "ssim12_image             0.101786\n",
      "dtype: float64\n"
     ]
    }
   ],
   "source": [
    "# calculate mean of all columns\n",
    "print(\"Mean\")\n",
    "print(ours_0_5_1.mean(), \"\\n\")\n",
    "print(\"Std\")\n",
    "print(ours_0_5_1.std())\n"
   ]
  },
  {
   "cell_type": "code",
   "execution_count": 15,
   "metadata": {},
   "outputs": [
    {
     "data": {
      "text/html": [
       "<div>\n",
       "<style scoped>\n",
       "    .dataframe tbody tr th:only-of-type {\n",
       "        vertical-align: middle;\n",
       "    }\n",
       "\n",
       "    .dataframe tbody tr th {\n",
       "        vertical-align: top;\n",
       "    }\n",
       "\n",
       "    .dataframe thead th {\n",
       "        text-align: right;\n",
       "    }\n",
       "</style>\n",
       "<table border=\"1\" class=\"dataframe\">\n",
       "  <thead>\n",
       "    <tr style=\"text-align: right;\">\n",
       "      <th></th>\n",
       "      <th>index</th>\n",
       "      <th>mse_before</th>\n",
       "      <th>mse12</th>\n",
       "      <th>tre_before</th>\n",
       "      <th>tre12</th>\n",
       "      <th>mse12_image_before</th>\n",
       "      <th>mse12_image</th>\n",
       "      <th>ssim12_image_before</th>\n",
       "      <th>ssim12_image</th>\n",
       "    </tr>\n",
       "  </thead>\n",
       "  <tbody>\n",
       "    <tr>\n",
       "      <th>0</th>\n",
       "      <td>54.0</td>\n",
       "      <td>221.675954</td>\n",
       "      <td>218.086978</td>\n",
       "      <td>19.874568</td>\n",
       "      <td>19.691369</td>\n",
       "      <td>0.022734</td>\n",
       "      <td>0.022369</td>\n",
       "      <td>0.408081</td>\n",
       "      <td>0.429739</td>\n",
       "    </tr>\n",
       "  </tbody>\n",
       "</table>\n",
       "</div>"
      ],
      "text/plain": [
       "   index  mse_before       mse12  tre_before      tre12  mse12_image_before  \\\n",
       "0   54.0  221.675954  218.086978   19.874568  19.691369            0.022734   \n",
       "\n",
       "   mse12_image  ssim12_image_before  ssim12_image  \n",
       "0     0.022369             0.408081      0.429739  "
      ]
     },
     "execution_count": 15,
     "metadata": {},
     "output_type": "execute_result"
    }
   ],
   "source": [
    "pd.DataFrame(ours_0_5_1.mean()).transpose()\n"
   ]
  },
  {
   "cell_type": "code",
   "execution_count": 11,
   "metadata": {},
   "outputs": [
    {
     "name": "stdout",
     "output_type": "stream",
     "text": [
      "Mean\n",
      "index                    49.500000\n",
      "mse_before              985.686598\n",
      "mse12                  1016.224249\n",
      "tre_before               39.024442\n",
      "tre12                    39.577660\n",
      "mse12_image_before        0.054492\n",
      "mse12_image               0.051303\n",
      "ssim12_image_before       0.324389\n",
      "ssim12_image              0.336992\n",
      "dtype: float64 \n",
      "\n",
      "Std\n",
      "index                   29.011492\n",
      "mse_before             893.727401\n",
      "mse12                  946.557289\n",
      "tre_before              17.969663\n",
      "tre12                   18.073820\n",
      "mse12_image_before       0.028834\n",
      "mse12_image              0.024858\n",
      "ssim12_image_before      0.080152\n",
      "ssim12_image             0.073141\n",
      "dtype: float64\n"
     ]
    }
   ],
   "source": [
    "print(\"Mean\")\n",
    "print(ours_5_10_unsup_dataset0.mean(), \"\\n\")\n",
    "print(\"Std\")\n",
    "print(ours_5_10_unsup_dataset0.std())"
   ]
  },
  {
   "cell_type": "code",
   "execution_count": 16,
   "metadata": {},
   "outputs": [
    {
     "data": {
      "text/html": [
       "<div>\n",
       "<style scoped>\n",
       "    .dataframe tbody tr th:only-of-type {\n",
       "        vertical-align: middle;\n",
       "    }\n",
       "\n",
       "    .dataframe tbody tr th {\n",
       "        vertical-align: top;\n",
       "    }\n",
       "\n",
       "    .dataframe thead th {\n",
       "        text-align: right;\n",
       "    }\n",
       "</style>\n",
       "<table border=\"1\" class=\"dataframe\">\n",
       "  <thead>\n",
       "    <tr style=\"text-align: right;\">\n",
       "      <th></th>\n",
       "      <th>index</th>\n",
       "      <th>mse_before</th>\n",
       "      <th>mse12</th>\n",
       "      <th>tre_before</th>\n",
       "      <th>tre12</th>\n",
       "      <th>mse12_image_before</th>\n",
       "      <th>mse12_image</th>\n",
       "      <th>ssim12_image_before</th>\n",
       "      <th>ssim12_image</th>\n",
       "    </tr>\n",
       "  </thead>\n",
       "  <tbody>\n",
       "    <tr>\n",
       "      <th>0</th>\n",
       "      <td>49.5</td>\n",
       "      <td>985.686598</td>\n",
       "      <td>1016.224249</td>\n",
       "      <td>39.024442</td>\n",
       "      <td>39.57766</td>\n",
       "      <td>0.054492</td>\n",
       "      <td>0.051303</td>\n",
       "      <td>0.324389</td>\n",
       "      <td>0.336992</td>\n",
       "    </tr>\n",
       "  </tbody>\n",
       "</table>\n",
       "</div>"
      ],
      "text/plain": [
       "   index  mse_before        mse12  tre_before     tre12  mse12_image_before  \\\n",
       "0   49.5  985.686598  1016.224249   39.024442  39.57766            0.054492   \n",
       "\n",
       "   mse12_image  ssim12_image_before  ssim12_image  \n",
       "0     0.051303             0.324389      0.336992  "
      ]
     },
     "execution_count": 16,
     "metadata": {},
     "output_type": "execute_result"
    }
   ],
   "source": [
    "pd.DataFrame(ours_5_10_unsup_dataset0.mean()).transpose()\n"
   ]
  },
  {
   "cell_type": "code",
   "execution_count": 12,
   "metadata": {},
   "outputs": [
    {
     "name": "stdout",
     "output_type": "stream",
     "text": [
      "Mean\n",
      "index                   54.000000\n",
      "mse_before             728.184672\n",
      "mse12                  717.400586\n",
      "tre_before              33.829105\n",
      "tre12                   33.460672\n",
      "mse12_image_before       0.041214\n",
      "mse12_image              0.039297\n",
      "ssim12_image_before      0.338107\n",
      "ssim12_image             0.372598\n",
      "dtype: float64 \n",
      "\n",
      "Std\n",
      "index                   31.609598\n",
      "mse_before             611.837202\n",
      "mse12                  604.128835\n",
      "tre_before              15.057824\n",
      "tre12                   15.039939\n",
      "mse12_image_before       0.024520\n",
      "mse12_image              0.024900\n",
      "ssim12_image_before      0.098887\n",
      "ssim12_image             0.094652\n",
      "dtype: float64\n"
     ]
    }
   ],
   "source": [
    "print(\"Mean\")\n",
    "print(ours_5_10_unsup_dataset1.mean(), \"\\n\")\n",
    "print(\"Std\")\n",
    "print(ours_5_10_unsup_dataset1.std())"
   ]
  },
  {
   "cell_type": "code",
   "execution_count": 17,
   "metadata": {},
   "outputs": [
    {
     "data": {
      "text/html": [
       "<div>\n",
       "<style scoped>\n",
       "    .dataframe tbody tr th:only-of-type {\n",
       "        vertical-align: middle;\n",
       "    }\n",
       "\n",
       "    .dataframe tbody tr th {\n",
       "        vertical-align: top;\n",
       "    }\n",
       "\n",
       "    .dataframe thead th {\n",
       "        text-align: right;\n",
       "    }\n",
       "</style>\n",
       "<table border=\"1\" class=\"dataframe\">\n",
       "  <thead>\n",
       "    <tr style=\"text-align: right;\">\n",
       "      <th></th>\n",
       "      <th>index</th>\n",
       "      <th>mse_before</th>\n",
       "      <th>mse12</th>\n",
       "      <th>tre_before</th>\n",
       "      <th>tre12</th>\n",
       "      <th>mse12_image_before</th>\n",
       "      <th>mse12_image</th>\n",
       "      <th>ssim12_image_before</th>\n",
       "      <th>ssim12_image</th>\n",
       "    </tr>\n",
       "  </thead>\n",
       "  <tbody>\n",
       "    <tr>\n",
       "      <th>0</th>\n",
       "      <td>54.0</td>\n",
       "      <td>728.184672</td>\n",
       "      <td>717.400586</td>\n",
       "      <td>33.829105</td>\n",
       "      <td>33.460672</td>\n",
       "      <td>0.041214</td>\n",
       "      <td>0.039297</td>\n",
       "      <td>0.338107</td>\n",
       "      <td>0.372598</td>\n",
       "    </tr>\n",
       "  </tbody>\n",
       "</table>\n",
       "</div>"
      ],
      "text/plain": [
       "   index  mse_before       mse12  tre_before      tre12  mse12_image_before  \\\n",
       "0   54.0  728.184672  717.400586   33.829105  33.460672            0.041214   \n",
       "\n",
       "   mse12_image  ssim12_image_before  ssim12_image  \n",
       "0     0.039297             0.338107      0.372598  "
      ]
     },
     "execution_count": 17,
     "metadata": {},
     "output_type": "execute_result"
    }
   ],
   "source": [
    "pd.DataFrame(ours_5_10_unsup_dataset1.mean()).transpose()\n"
   ]
  },
  {
   "cell_type": "code",
   "execution_count": null,
   "metadata": {},
   "outputs": [],
   "source": [
    "DHR_sup = pd.read_csv(\"output/DHR_11100_0.001_0_10_1_20231031-151024_test/metrics.csv\")\n",
    "pd.DataFrame(ours_5_10_unsup_dataset1.mean()).transpose()"
   ]
  }
 ],
 "metadata": {
  "kernelspec": {
   "display_name": "spppt",
   "language": "python",
   "name": "python3"
  },
  "language_info": {
   "codemirror_mode": {
    "name": "ipython",
    "version": 3
   },
   "file_extension": ".py",
   "mimetype": "text/x-python",
   "name": "python",
   "nbconvert_exporter": "python",
   "pygments_lexer": "ipython3",
   "version": "3.8.18"
  }
 },
 "nbformat": 4,
 "nbformat_minor": 2
}
