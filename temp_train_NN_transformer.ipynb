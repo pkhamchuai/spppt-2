{
 "cells": [
  {
   "cell_type": "markdown",
   "metadata": {},
   "source": [
    "# Read data\n",
    "Read both affine params and points, the normal datagen pipeline for training should do. "
   ]
  },
  {
   "cell_type": "code",
   "execution_count": null,
   "metadata": {},
   "outputs": [],
   "source": [
    "from utils.utils0 import *\n",
    "from utils.utils1 import *\n",
    "from utils.utils1 import ModelParams, model_loader, print_summary#, test_repeat\n",
    "import matplotlib.pyplot as plt\n",
    "\n",
    "device = torch.device(\"cuda\" if torch.cuda.is_available() else \"cpu\")\n",
    "print(f'Device: {device}')"
   ]
  },
  {
   "cell_type": "code",
   "execution_count": null,
   "metadata": {},
   "outputs": [],
   "source": []
  },
  {
   "cell_type": "markdown",
   "metadata": {},
   "source": [
    "# Define NN model\n",
    "- Input: affine parms (2x3), original points (2x1)\n",
    "- Output: predicted transformed points (2x1)\n",
    "- Groundtruth: true transformed points (2x1)"
   ]
  },
  {
   "cell_type": "code",
   "execution_count": null,
   "metadata": {},
   "outputs": [],
   "source": [
    "import torch\n",
    "import torch.nn as nn\n",
    "import torch.optim as optim\n",
    "\n",
    "# Define the neural network\n",
    "class AffineTransformationNetwork(nn.Module):\n",
    "    def __init__(self):\n",
    "        super(AffineTransformationNetwork, self).__init__()\n",
    "        self.fc = nn.Linear(6, 2)\n",
    "\n",
    "    def forward(self, x):\n",
    "        return self.fc(x)\n",
    "\n",
    "# Create an instance of the neural network\n",
    "affine_net = AffineTransformationNetwork()\n",
    "\n",
    "# Define a dataset with random data (replace with your actual dataset)\n",
    "# Each row corresponds to [a, b, c, d, e, f, x, y] where a-f are affine parameters, and x-y are point coordinates\n",
    "dataset_size = 1000\n",
    "dataset = torch.rand((dataset_size, 8))  # Replace with your own dataset\n",
    "\n",
    "# Split the dataset into input (affine parameters + point) and output (transformed point)\n",
    "input_data = dataset[:, :6]\n",
    "output_data = dataset[:, 6:]\n",
    "\n",
    "# Define the loss function and optimizer\n",
    "criterion = nn.MSELoss()\n",
    "optimizer = optim.SGD(affine_net.parameters(), lr=0.01)\n",
    "\n",
    "# Training loop\n",
    "epochs = 1000\n",
    "for epoch in range(epochs):\n",
    "    # Forward pass\n",
    "    predictions = affine_net(input_data)\n",
    "\n",
    "    # Compute the loss\n",
    "    loss = criterion(predictions, output_data)\n",
    "\n",
    "    # Backward pass and optimization\n",
    "    optimizer.zero_grad()\n",
    "    loss.backward()\n",
    "    optimizer.step()\n",
    "\n",
    "    # Print the loss every 100 epochs\n",
    "    if (epoch + 1) % 100 == 0:\n",
    "        print(f'Epoch [{epoch + 1}/{epochs}], Loss: {loss.item()}')\n",
    "\n",
    "# Example usage after training\n",
    "sample_input = torch.tensor([[2.0, 0.0, 0.0, 3.0, 1.0, 2.0]])  # Replace with your own values\n",
    "transformed_point = affine_net(sample_input)\n",
    "print(\"Transformed Point:\", transformed_point)\n"
   ]
  }
 ],
 "metadata": {
  "kernelspec": {
   "display_name": "spppt",
   "language": "python",
   "name": "python3"
  },
  "language_info": {
   "name": "python",
   "version": "3.8.18"
  }
 },
 "nbformat": 4,
 "nbformat_minor": 2
}
