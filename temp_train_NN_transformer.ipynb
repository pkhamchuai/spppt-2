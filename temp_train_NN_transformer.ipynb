{
 "cells": [
  {
   "cell_type": "markdown",
   "metadata": {},
   "source": [
    "# Read data\n",
    "Read both affine params and points, the normal datagen pipeline for training should do. "
   ]
  },
  {
   "cell_type": "code",
   "execution_count": 22,
   "metadata": {},
   "outputs": [
    {
     "name": "stdout",
     "output_type": "stream",
     "text": [
      "Device: cuda\n"
     ]
    }
   ],
   "source": [
    "from utils.utils0 import *\n",
    "from utils.utils1 import *\n",
    "from utils.utils1 import ModelParams, model_loader, print_summary#, test_repeat\n",
    "import matplotlib.pyplot as plt\n",
    "from tqdm import tqdm\n",
    "\n",
    "device = torch.device(\"cuda\" if torch.cuda.is_available() else \"cpu\")\n",
    "print(f'Device: {device}')"
   ]
  },
  {
   "cell_type": "code",
   "execution_count": 23,
   "metadata": {},
   "outputs": [
    {
     "name": "stdout",
     "output_type": "stream",
     "text": [
      "Model name:  dataset2_sup1_image1_points0_loss_image0\n",
      "Model code:  21100_0.001_0_10_1\n",
      "Model params:  {'dataset': 2, 'sup': 1, 'image': 1, 'points': 0, 'loss_image_case': 0, 'loss_image': MSELoss(), 'loss_affine': <utils.utils1.loss_affine object at 0x7f8a1d31da90>, 'learning_rate': 0.001, 'decay_rate': 0.96, 'start_epoch': 0, 'num_epochs': 10, 'batch_size': 1, 'model_name': 'dataset2_sup1_image1_points0_loss_image0'}\n"
     ]
    }
   ],
   "source": [
    "model_params = ModelParams(dataset=2, sup=1)\n",
    "train_dataset = datagen(model_params.dataset, True, model_params.sup)\n",
    "test_dataset = datagen(model_params.dataset, False, model_params.sup)"
   ]
  },
  {
   "cell_type": "code",
   "execution_count": 24,
   "metadata": {},
   "outputs": [],
   "source": [
    "# draw a pair of images from the test set\n",
    "outputs = list(train_dataset)[0]"
   ]
  },
  {
   "cell_type": "code",
   "execution_count": 25,
   "metadata": {},
   "outputs": [
    {
     "name": "stdout",
     "output_type": "stream",
     "text": [
      "torch.Size([1, 1, 256, 256])\n",
      "torch.Size([1, 1, 256, 256])\n",
      "torch.Size([1, 2, 3])\n",
      "torch.Size([1, 47, 2])\n",
      "torch.Size([1, 47, 2])\n",
      "torch.Size([1, 47, 2])\n"
     ]
    }
   ],
   "source": [
    "for output in outputs:\n",
    "    print(output.shape)"
   ]
  },
  {
   "cell_type": "code",
   "execution_count": null,
   "metadata": {},
   "outputs": [],
   "source": []
  },
  {
   "cell_type": "markdown",
   "metadata": {},
   "source": [
    "# Define NN model\n",
    "- Input: affine parms (2x3), original points (2x1)\n",
    "- Output: predicted transformed points (2x1)\n",
    "- Groundtruth: true transformed points (2x1)"
   ]
  },
  {
   "cell_type": "code",
   "execution_count": 26,
   "metadata": {},
   "outputs": [],
   "source": [
    "import torch\n",
    "import torch.nn as nn\n",
    "import torch.optim as optim"
   ]
  },
  {
   "cell_type": "code",
   "execution_count": 27,
   "metadata": {},
   "outputs": [
    {
     "name": "stdout",
     "output_type": "stream",
     "text": [
      "AffineTransformationNetwork(\n",
      "  (hidden_layers): ModuleList(\n",
      "    (0): Linear(in_features=8, out_features=64, bias=True)\n",
      "    (1): ReLU()\n",
      "    (2): Linear(in_features=64, out_features=64, bias=True)\n",
      "    (3): ReLU()\n",
      "    (4): Linear(in_features=64, out_features=2, bias=True)\n",
      "  )\n",
      ")\n",
      "Number of parameters: 6\n"
     ]
    }
   ],
   "source": [
    "class AffineTransformationNetwork(nn.Module):\n",
    "    def __init__(self, input_size, hidden_sizes, output_size):\n",
    "        super(AffineTransformationNetwork, self).__init__()\n",
    "\n",
    "        # Check if hidden_sizes is empty\n",
    "        if not hidden_sizes:\n",
    "            self.hidden_layers = nn.ModuleList([])\n",
    "            self.fc = nn.Linear(input_size, output_size)\n",
    "        else:\n",
    "            layers = [nn.Linear(input_size, hidden_sizes[0]), nn.ReLU()]\n",
    "            for i in range(1, len(hidden_sizes)):\n",
    "                layers += [nn.Linear(hidden_sizes[i - 1], hidden_sizes[i]), nn.ReLU()]\n",
    "            layers += [nn.Linear(hidden_sizes[-1], output_size)]\n",
    "            self.hidden_layers = nn.ModuleList(layers)\n",
    "\n",
    "    def forward(self, affine_matrix, point):\n",
    "        # Flatten and concatenate the input matrices\n",
    "        input_data = torch.cat((affine_matrix, point))\n",
    "\n",
    "        # Pass the input through hidden layers\n",
    "        for layer in self.hidden_layers:\n",
    "            input_data = layer(input_data)\n",
    "\n",
    "        # Reshape the output to (2x1)\n",
    "        transformed_point = input_data#.view(2)\n",
    "\n",
    "        return transformed_point\n",
    "\n",
    "# Example: Create an instance of the neural network with 2 hidden layers and 64 neurons in each hidden layer\n",
    "input_size = 8  # Affine matrix (2x3) + Point (2x1)\n",
    "hidden_sizes = [64, 64]\n",
    "output_size = 2  # Transformed point (2x1)\n",
    "\n",
    "model = AffineTransformationNetwork(input_size, hidden_sizes, output_size)\n",
    "print(model)\n",
    "model.to(device)\n",
    "# Define the loss function and optimizer\n",
    "criterion = nn.MSELoss()\n",
    "optimizer = optim.Adam(model.parameters(), lr=0.001)\n",
    "parameters = list(model.parameters())\n",
    "print(f'Number of parameters: {len(parameters)}')\n",
    "# print(f'Parameters: {parameters}')\n",
    "scheduler = optim.lr_scheduler.StepLR(optimizer, step_size=1200, gamma=0.05)\n",
    "\n"
   ]
  },
  {
   "cell_type": "markdown",
   "metadata": {},
   "source": [
    "## Training"
   ]
  },
  {
   "cell_type": "code",
   "execution_count": 28,
   "metadata": {},
   "outputs": [
    {
     "name": "stderr",
     "output_type": "stream",
     "text": [
      "Training: 100%|██████████| 200/200 [00:02<00:00, 67.41it/s]\n",
      "Testing: 100%|██████████| 100/100 [00:01<00:00, 83.70it/s]\n"
     ]
    }
   ],
   "source": [
    "train_dataset_new = []\n",
    "# loop through all items in the train_dataset \n",
    "# and modify the input and output as described above\n",
    "train_bar = tqdm(train_dataset, desc='Training')\n",
    "# Loop over all training examples\n",
    "for i, (source_img, target_img, affine_params, \\\n",
    "        matches1, matches2, matches1_2) in enumerate(train_bar):\n",
    "    for j in range(matches1.shape[1]):\n",
    "        train_dataset_new.append((torch.cat((affine_params.view(-1), matches1[0][j])), matches2[0][j]))\n",
    "        if j > 5:\n",
    "            break   \n",
    "\n",
    "test_dataset_new = []\n",
    "# loop through all items in the train_dataset \n",
    "# and modify the input and output as described above\n",
    "test_bar = tqdm(test_dataset, desc='Testing')\n",
    "# Loop over all training examples\n",
    "for i, (source_img, target_img, affine_params, \\\n",
    "        matches1, matches2, matches1_2) in enumerate(test_bar):\n",
    "    for j in range(matches1.shape[1]):\n",
    "        test_dataset_new.append((torch.cat((affine_params.view(-1), matches1[0][j])), matches2[0][j]))\n",
    "        if j > 2:\n",
    "            break   "
   ]
  },
  {
   "cell_type": "code",
   "execution_count": 29,
   "metadata": {},
   "outputs": [
    {
     "name": "stdout",
     "output_type": "stream",
     "text": [
      "Seed: 13951365752222412541\n"
     ]
    },
    {
     "name": "stderr",
     "output_type": "stream",
     "text": [
      "Training Epoch 1/20: 100%|██████████| 2400/2400 [00:19<00:00, 121.76it/s, loss=583]   \n"
     ]
    },
    {
     "name": "stdout",
     "output_type": "stream",
     "text": [
      "Epoch [1/20], Loss: 583.3439969781911\n"
     ]
    },
    {
     "name": "stderr",
     "output_type": "stream",
     "text": [
      "Training Epoch 2/20: 100%|██████████| 2400/2400 [00:18<00:00, 133.12it/s, loss=312]\n"
     ]
    },
    {
     "name": "stdout",
     "output_type": "stream",
     "text": [
      "Epoch [2/20], Loss: 312.34412935246405\n"
     ]
    },
    {
     "name": "stderr",
     "output_type": "stream",
     "text": [
      "Training Epoch 3/20: 100%|██████████| 2400/2400 [00:17<00:00, 136.46it/s, loss=306]\n"
     ]
    },
    {
     "name": "stdout",
     "output_type": "stream",
     "text": [
      "Epoch [3/20], Loss: 305.76847656498353\n"
     ]
    },
    {
     "name": "stderr",
     "output_type": "stream",
     "text": [
      "Training Epoch 4/20: 100%|██████████| 2400/2400 [00:17<00:00, 137.36it/s, loss=300]\n"
     ]
    },
    {
     "name": "stdout",
     "output_type": "stream",
     "text": [
      "Epoch [4/20], Loss: 300.0825859309919\n"
     ]
    },
    {
     "name": "stderr",
     "output_type": "stream",
     "text": [
      "Training Epoch 5/20: 100%|██████████| 2400/2400 [00:18<00:00, 132.06it/s, loss=295]\n"
     ]
    },
    {
     "name": "stdout",
     "output_type": "stream",
     "text": [
      "Epoch [5/20], Loss: 295.07854200551907\n"
     ]
    },
    {
     "name": "stderr",
     "output_type": "stream",
     "text": [
      "Training Epoch 6/20: 100%|██████████| 2400/2400 [00:18<00:00, 128.59it/s, loss=293]\n"
     ]
    },
    {
     "name": "stdout",
     "output_type": "stream",
     "text": [
      "Epoch [6/20], Loss: 293.029749269085\n"
     ]
    },
    {
     "name": "stderr",
     "output_type": "stream",
     "text": [
      "Training Epoch 7/20: 100%|██████████| 2400/2400 [00:18<00:00, 130.28it/s, loss=289]\n"
     ]
    },
    {
     "name": "stdout",
     "output_type": "stream",
     "text": [
      "Epoch [7/20], Loss: 289.04564103196066\n"
     ]
    },
    {
     "name": "stderr",
     "output_type": "stream",
     "text": [
      "Training Epoch 8/20: 100%|██████████| 2400/2400 [00:18<00:00, 128.13it/s, loss=286]\n"
     ]
    },
    {
     "name": "stdout",
     "output_type": "stream",
     "text": [
      "Epoch [8/20], Loss: 286.4518131517929\n"
     ]
    },
    {
     "name": "stderr",
     "output_type": "stream",
     "text": [
      "Training Epoch 9/20: 100%|██████████| 2400/2400 [00:18<00:00, 128.10it/s, loss=286]\n"
     ]
    },
    {
     "name": "stdout",
     "output_type": "stream",
     "text": [
      "Epoch [9/20], Loss: 285.6396338535876\n"
     ]
    },
    {
     "name": "stderr",
     "output_type": "stream",
     "text": [
      "Training Epoch 10/20: 100%|██████████| 2400/2400 [00:18<00:00, 128.94it/s, loss=282]\n"
     ]
    },
    {
     "name": "stdout",
     "output_type": "stream",
     "text": [
      "Epoch [10/20], Loss: 282.31545614516983\n"
     ]
    },
    {
     "name": "stderr",
     "output_type": "stream",
     "text": [
      "Training Epoch 11/20: 100%|██████████| 2400/2400 [00:17<00:00, 134.36it/s, loss=280]\n"
     ]
    },
    {
     "name": "stdout",
     "output_type": "stream",
     "text": [
      "Epoch [11/20], Loss: 279.9257830407036\n"
     ]
    },
    {
     "name": "stderr",
     "output_type": "stream",
     "text": [
      "Training Epoch 12/20: 100%|██████████| 2400/2400 [00:18<00:00, 128.46it/s, loss=278]\n"
     ]
    },
    {
     "name": "stdout",
     "output_type": "stream",
     "text": [
      "Epoch [12/20], Loss: 277.9123531956598\n"
     ]
    },
    {
     "name": "stderr",
     "output_type": "stream",
     "text": [
      "Training Epoch 13/20: 100%|██████████| 2400/2400 [00:18<00:00, 133.00it/s, loss=276]\n"
     ]
    },
    {
     "name": "stdout",
     "output_type": "stream",
     "text": [
      "Epoch [13/20], Loss: 276.4506436477353\n"
     ]
    },
    {
     "name": "stderr",
     "output_type": "stream",
     "text": [
      "Training Epoch 14/20: 100%|██████████| 2400/2400 [00:18<00:00, 132.77it/s, loss=275]\n"
     ]
    },
    {
     "name": "stdout",
     "output_type": "stream",
     "text": [
      "Epoch [14/20], Loss: 275.4055564340443\n"
     ]
    },
    {
     "name": "stderr",
     "output_type": "stream",
     "text": [
      "Training Epoch 15/20: 100%|██████████| 2400/2400 [00:17<00:00, 133.34it/s, loss=274]\n"
     ]
    },
    {
     "name": "stdout",
     "output_type": "stream",
     "text": [
      "Epoch [15/20], Loss: 274.00020019737696\n"
     ]
    },
    {
     "name": "stderr",
     "output_type": "stream",
     "text": [
      "Training Epoch 16/20: 100%|██████████| 2400/2400 [00:18<00:00, 133.13it/s, loss=272]\n"
     ]
    },
    {
     "name": "stdout",
     "output_type": "stream",
     "text": [
      "Epoch [16/20], Loss: 272.22240269750125\n"
     ]
    },
    {
     "name": "stderr",
     "output_type": "stream",
     "text": [
      "Training Epoch 17/20: 100%|██████████| 2400/2400 [00:18<00:00, 132.60it/s, loss=271]\n"
     ]
    },
    {
     "name": "stdout",
     "output_type": "stream",
     "text": [
      "Epoch [17/20], Loss: 270.7990274061573\n"
     ]
    },
    {
     "name": "stderr",
     "output_type": "stream",
     "text": [
      "Training Epoch 18/20: 100%|██████████| 2400/2400 [00:18<00:00, 132.94it/s, loss=271]\n"
     ]
    },
    {
     "name": "stdout",
     "output_type": "stream",
     "text": [
      "Epoch [18/20], Loss: 270.7168908474284\n"
     ]
    },
    {
     "name": "stderr",
     "output_type": "stream",
     "text": [
      "Training Epoch 19/20: 100%|██████████| 2400/2400 [00:18<00:00, 133.19it/s, loss=269]\n"
     ]
    },
    {
     "name": "stdout",
     "output_type": "stream",
     "text": [
      "Epoch [19/20], Loss: 268.94441433472247\n"
     ]
    },
    {
     "name": "stderr",
     "output_type": "stream",
     "text": [
      "Training Epoch 20/20: 100%|██████████| 2400/2400 [00:17<00:00, 135.03it/s, loss=268]"
     ]
    },
    {
     "name": "stdout",
     "output_type": "stream",
     "text": [
      "Epoch [20/20], Loss: 267.746869375091\n"
     ]
    },
    {
     "name": "stderr",
     "output_type": "stream",
     "text": [
      "\n"
     ]
    }
   ],
   "source": [
    "# Create empty list to store epoch number, train loss and validation loss\n",
    "epoch_loss_list = []\n",
    "running_loss_list = []\n",
    "print('Seed:', torch.seed())\n",
    "\n",
    "# Training loop\n",
    "epochs = 100\n",
    "for epoch in range(epochs):\n",
    "    model.train()\n",
    "    \n",
    "    # optimizer.zero_grad()\n",
    "    running_loss = 0.0\n",
    "    \n",
    "\n",
    "    train_bar = tqdm(train_dataset_new, desc='Training Epoch %d/%d' % (epoch+1, epochs))\n",
    "    # Loop over all training examples\n",
    "    for i, (input, matches1_2) in enumerate(train_bar):\n",
    "        optimizer.zero_grad()\n",
    "        # Set the inputs and labels to the training device\n",
    "        # source_img = source_img.to(device)\n",
    "        # target_img = target_img.to(device)\n",
    "        affine_params = input[:6].to(device)\n",
    "        matches1 = input[6:].to(device)\n",
    "        # matches2 = matches2.to(device)\n",
    "        matches1_2 = matches1_2.to(device)\n",
    "\n",
    "        # optimizer.zero_grad()\n",
    "        # for j in range(matches1.shape[1]):\n",
    "        # Forward pass\n",
    "        predicted_points = model(affine_params, matches1)\n",
    "\n",
    "        # Compute the loss\n",
    "        loss = criterion(predicted_points, matches1_2)\n",
    "\n",
    "        running_loss += loss.item()\n",
    "        \n",
    "        train_bar.set_postfix({'loss': running_loss / (i+1)})\n",
    "\n",
    "        # Backward pass and optimization\n",
    "        loss.backward()\n",
    "        optimizer.step()\n",
    "\n",
    "    scheduler.step()\n",
    "    epoch_loss_list.append(running_loss / len(train_dataset))\n",
    "    print(f'Epoch [{epoch + 1}/{epochs}], Loss: {running_loss / len(train_dataset_new)}')\n",
    "\n",
    "    # Validation loop\n",
    "    model.eval()\n",
    "\n",
    "    # Create empty list to store validation loss\n",
    "    val_loss_list = []\n",
    "    val_running_loss = 0.0\n",
    "\n",
    "    test_bar = tqdm(test_dataset_new, desc='Testing Epoch %d/%d' % (epoch+1, epochs))\n",
    "    # Loop over all validation examples\n",
    "    for i, (input, matches1_2) in enumerate(test_bar):\n",
    "        # Set the inputs and labels to the validation device\n",
    "        # source_img = source_img.to(device)\n",
    "        # target_img = target_img.to(device)\n",
    "        affine_params = input[:6].to(device)\n",
    "        matches1 = input[6:].to(device)\n",
    "        # matches2 = matches2.to(device)\n",
    "        matches1_2 = matches1_2.to(device)\n",
    "\n",
    "        # Forward pass\n",
    "        predicted_points = model(affine_params, matches1)\n",
    "\n",
    "        # Compute the loss\n",
    "        loss = criterion(predicted_points, matches1_2)\n",
    "\n",
    "        val_running_loss += loss.item()\n",
    "        test_bar.set_postfix({'loss': val_running_loss / (i+1)})\n",
    "\n",
    "    val_loss_list.append(val_running_loss / len(test_dataset_new))\n",
    "    print(f'Epoch [{epoch + 1}/{epochs}], Val Loss: {val_running_loss / len(test_dataset_new)}')\n",
    "\n",
    "    # Save the model if the validation loss is the lowest we've seen so far\n",
    "    if val_loss_list[-1] == min(val_loss_list):\n",
    "        torch.save(model.state_dict(), f'trained_models/affine_NN_{epoch:03d}.pth')\n",
    "        print('Model saved')\n",
    "\n",
    "    "
   ]
  },
  {
   "cell_type": "code",
   "execution_count": 33,
   "metadata": {},
   "outputs": [],
   "source": [
    "# save model to file train_model/affine_transformation_network.pt\n",
    "torch.save(model.state_dict(), 'trained_models/affine_NN.pth')"
   ]
  },
  {
   "cell_type": "code",
   "execution_count": 50,
   "metadata": {},
   "outputs": [
    {
     "data": {
      "image/png": "[encoded data removed]",
      "text/plain": [
       "<Figure size 1000x500 with 1 Axes>"
      ]
     },
     "metadata": {},
     "output_type": "display_data"
    }
   ],
   "source": [
    " # Plot train loss and validation loss against epoch number\n",
    "fig = plt.figure(figsize=(10, 5))\n",
    "plt.plot(range(1, epochs+1), epoch_loss_list, label='Running Train Loss', linewidth=3)\n",
    "plt.plot(range(1, epochs+1), val_loss_list, label='Running Validation Loss', linewidth=3)\n",
    "plt.title('Train Loss')\n",
    "plt.legend()\n",
    "plt.xlabel('Epoch')\n",
    "plt.ylabel('Loss')\n",
    "plt.grid(True)\n",
    "# plt.yscale('log')\n",
    "plt.tight_layout()\n",
    "\n",
    "# Save plot\n",
    "# signaturebar_gray(fig, f'{model_params.get_model_code()} - epoch{model_params.num_epochs} - {timestamp}')\n",
    "# fig.savefig(save_plot_name)"
   ]
  },
  {
   "cell_type": "code",
   "execution_count": 52,
   "metadata": {},
   "outputs": [
    {
     "name": "stderr",
     "output_type": "stream",
     "text": [
      "Testing:   1%|          | 8/1200 [00:00<00:30, 38.93it/s, loss=6.43e+4]"
     ]
    },
    {
     "name": "stdout",
     "output_type": "stream",
     "text": [
      "True: tensor([ 79., 140.], device='cuda:0'), Predicted: tensor([ 74.0484, 134.3428], device='cuda:0', grad_fn=<ViewBackward0>)\n",
      "True: tensor([98., 68.], device='cuda:0'), Predicted: tensor([89.7310, 74.6381], device='cuda:0', grad_fn=<ViewBackward0>)\n",
      "True: tensor([221., 132.], device='cuda:0'), Predicted: tensor([192.4877, 125.0214], device='cuda:0', grad_fn=<ViewBackward0>)\n",
      "True: tensor([72., 96.], device='cuda:0'), Predicted: tensor([69.6305, 98.1659], device='cuda:0', grad_fn=<ViewBackward0>)\n",
      "True: tensor([ 50., 132.], device='cuda:0'), Predicted: tensor([ 45.0721, 126.0813], device='cuda:0', grad_fn=<ViewBackward0>)\n",
      "True: tensor([ 33., 105.], device='cuda:0'), Predicted: tensor([ 32.3587, 104.0244], device='cuda:0', grad_fn=<ViewBackward0>)\n",
      "True: tensor([49., 59.], device='cuda:0'), Predicted: tensor([50.5610, 69.4127], device='cuda:0', grad_fn=<ViewBackward0>)\n",
      "True: tensor([247.,  38.], device='cuda:0'), Predicted: tensor([207.7063,  42.7250], device='cuda:0', grad_fn=<ViewBackward0>)\n",
      "True: tensor([231.,  90.], device='cuda:0'), Predicted: tensor([195.7922,  90.0577], device='cuda:0', grad_fn=<ViewBackward0>)\n"
     ]
    },
    {
     "name": "stderr",
     "output_type": "stream",
     "text": [
      "Testing:   1%|          | 11/1200 [00:00<00:29, 40.34it/s, loss=5.35e+4]"
     ]
    },
    {
     "name": "stdout",
     "output_type": "stream",
     "text": [
      "True: tensor([ 59., 194.], device='cuda:0'), Predicted: tensor([ 53.1285, 175.2049], device='cuda:0', grad_fn=<ViewBackward0>)\n",
      "True: tensor([ 57., 214.], device='cuda:0'), Predicted: tensor([ 53.8105, 192.5636], device='cuda:0', grad_fn=<ViewBackward0>)\n",
      "True: tensor([222., 114.], device='cuda:0'), Predicted: tensor([190.5564, 110.0999], device='cuda:0', grad_fn=<ViewBackward0>)\n"
     ]
    },
    {
     "name": "stderr",
     "output_type": "stream",
     "text": [
      "\n"
     ]
    }
   ],
   "source": [
    "model.eval()\n",
    "\n",
    "test_bar = tqdm(test_dataset_new, desc='Testing')\n",
    "for i, (input, matches1_2) in enumerate(test_bar):\n",
    "    # Set the inputs and labels to the training device\n",
    "    # source_img = source_img.to(device)\n",
    "    # target_img = target_img.to(device)\n",
    "    affine_params = input[:6].to(device)\n",
    "    matches1 = input[6:].to(device)\n",
    "    # matches2 = matches2.to(device)\n",
    "    matches1_2 = matches1_2.to(device)\n",
    "\n",
    "    # optimizer.zero_grad()\n",
    "    # for j in range(matches1.shape[1]):\n",
    "    # Forward pass\n",
    "    predicted_points = model(affine_params, matches1)\n",
    "\n",
    "    # # Compute the loss\n",
    "    # loss = criterion(predicted_points, matches1_2)\n",
    "\n",
    "    # running_loss += loss.item()\n",
    "\n",
    "    test_bar.set_postfix({'loss': running_loss / (i+1)})\n",
    "    print(f'True: {matches1_2}, Predicted: {predicted_points}')\n",
    "    if i > 10:\n",
    "        break"
   ]
  },
  {
   "cell_type": "code",
   "execution_count": 30,
   "metadata": {},
   "outputs": [
    {
     "ename": "AttributeError",
     "evalue": "'list' object has no attribute 'to'",
     "output_type": "error",
     "traceback": [
      "\u001b[0;31m---------------------------------------------------------------------------\u001b[0m",
      "\u001b[0;31mAttributeError\u001b[0m                            Traceback (most recent call last)",
      "Cell \u001b[0;32mIn[30], line 2\u001b[0m\n\u001b[1;32m      1\u001b[0m \u001b[38;5;66;03m# Example usage after training\u001b[39;00m\n\u001b[0;32m----> 2\u001b[0m sample_input \u001b[38;5;241m=\u001b[39m \u001b[38;5;28;43mlist\u001b[39;49m\u001b[43m(\u001b[49m\u001b[43mtest_dataset\u001b[49m\u001b[43m)\u001b[49m\u001b[43m[\u001b[49m\u001b[38;5;241;43m0\u001b[39;49m\u001b[43m]\u001b[49m\u001b[38;5;241;43m.\u001b[39;49m\u001b[43mto\u001b[49m(device)\n\u001b[1;32m      3\u001b[0m transformed_point \u001b[38;5;241m=\u001b[39m model(sample_input[\u001b[38;5;241m2\u001b[39m], sample_input[\u001b[38;5;241m3\u001b[39m])\n\u001b[1;32m      4\u001b[0m \u001b[38;5;28mprint\u001b[39m(\u001b[38;5;124m\"\u001b[39m\u001b[38;5;124mTransformed Point:\u001b[39m\u001b[38;5;124m\"\u001b[39m, transformed_point)\n",
      "\u001b[0;31mAttributeError\u001b[0m: 'list' object has no attribute 'to'"
     ]
    }
   ],
   "source": [
    "# Example usage after training\n",
    "sample_input = list(test_dataset)[0].to(device)\n",
    "transformed_point = model(sample_input[2], sample_input[3])\n",
    "print(\"Transformed Point:\", transformed_point)\n",
    "print(\"Ground Truth:\", sample_input[4])"
   ]
  },
  {
   "cell_type": "code",
   "execution_count": null,
   "metadata": {},
   "outputs": [],
   "source": []
  }
 ],
 "metadata": {
  "kernelspec": {
   "display_name": "spppt",
   "language": "python",
   "name": "python3"
  },
  "language_info": {
   "codemirror_mode": {
    "name": "ipython",
    "version": 3
   },
   "file_extension": ".py",
   "mimetype": "text/x-python",
   "name": "python",
   "nbconvert_exporter": "python",
   "pygments_lexer": "ipython3",
   "version": "3.8.18"
  }
 },
 "nbformat": 4,
 "nbformat_minor": 2
}
