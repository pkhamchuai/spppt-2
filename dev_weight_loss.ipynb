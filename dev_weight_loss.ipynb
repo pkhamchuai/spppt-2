{
 "cells": [
  {
   "cell_type": "markdown",
   "metadata": {},
   "source": [
    "# Gaussian-weighted MSE loss"
   ]
  },
  {
   "cell_type": "code",
   "execution_count": 1,
   "metadata": {},
   "outputs": [],
   "source": [
    "import numpy as np\n",
    "\n",
    "def gaussian_weight(shape, center, sigma):\n",
    "    x, y = np.meshgrid(np.arange(shape[0]), np.arange(shape[1]))\n",
    "    return np.exp(-((x - center[0])**2 + (y - center[1])**2) / (2 * sigma**2))\n",
    "\n",
    "def gaussian_weighted_mse_loss(image1, image2, center, sigma):\n",
    "    mse = np.mean((image1 - image2)**2)\n",
    "    weight = gaussian_weight(image1.shape, center, sigma)\n",
    "    weighted_mse = np.mean(weight * (image1 - image2)**2)\n",
    "    return weighted_mse\n",
    "\n"
   ]
  },
  {
   "cell_type": "code",
   "execution_count": null,
   "metadata": {},
   "outputs": [],
   "source": [
    "# Example usage:\n",
    "image1 = \n",
    "image2 = \n",
    "center = (image1.shape[0] / 2, image1.shape[1] / 2)  # Center of the image\n",
    "sigma = 50  # Adjust the standard deviation as needed\n",
    "\n",
    "loss = gaussian_weighted_mse_loss(image1, image2, center, sigma)\n",
    "print(\"Weighted MSE Loss:\", loss)"
   ]
  },
  {
   "cell_type": "markdown",
   "metadata": {},
   "source": [
    "# Intensity-based MSE loss"
   ]
  },
  {
   "cell_type": "markdown",
   "metadata": {},
   "source": []
  }
 ],
 "metadata": {
  "kernelspec": {
   "display_name": "spppt",
   "language": "python",
   "name": "python3"
  },
  "language_info": {
   "codemirror_mode": {
    "name": "ipython",
    "version": 3
   },
   "file_extension": ".py",
   "mimetype": "text/x-python",
   "name": "python",
   "nbconvert_exporter": "python",
   "pygments_lexer": "ipython3",
   "version": "3.8.18"
  }
 },
 "nbformat": 4,
 "nbformat_minor": 2
}
