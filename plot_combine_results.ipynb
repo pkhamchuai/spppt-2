{
 "cells": [
  {
   "cell_type": "code",
   "execution_count": 26,
   "metadata": {},
   "outputs": [
    {
     "name": "stdout",
     "output_type": "stream",
     "text": [
      "9\n"
     ]
    }
   ],
   "source": [
    "# grab folder names starting with 'DHR' in folder 'output'\n",
    "\n",
    "import os\n",
    "import re\n",
    "\n",
    "# get all folders in 'output'\n",
    "folders = os.listdir('output/plot_combine_results')\n",
    "\n",
    "# filter folders starting with 'DHR'\n",
    "folders = [f for f in folders if re.match(r'^DHR', f)]\n",
    "\n",
    "# print(folders)\n",
    "print(len(folders))"
   ]
  },
  {
   "cell_type": "code",
   "execution_count": 27,
   "metadata": {},
   "outputs": [],
   "source": [
    "# grab filenames ending with 'source.png' in folder 'DHR2x_60100_0.0001_0_2_1_20240606-183830_test'\n",
    "files = os.listdir('output/plot_combine_results/DHR2x_60100_0.0001_0_2_1_20240606-183830_test')\n",
    "source = [f for f in files if re.match(r'.*source.png$', f)]\n",
    "\n",
    "# sort files by name\n",
    "source.sort()\n",
    "# print(source)"
   ]
  },
  {
   "cell_type": "code",
   "execution_count": 28,
   "metadata": {},
   "outputs": [],
   "source": [
    "# grab filenames ending with 'target.png' in folder 'DHR2x_60100_0.0001_0_2_1_20240606-183830_test'\n",
    "target = [f for f in files if re.match(r'.*target.png$', f)]\n",
    "\n",
    "# sort files by name\n",
    "target.sort()\n",
    "# print(target)"
   ]
  },
  {
   "cell_type": "code",
   "execution_count": 29,
   "metadata": {},
   "outputs": [
    {
     "name": "stdout",
     "output_type": "stream",
     "text": [
      "9\n",
      "1 100\n",
      "2 100\n",
      "3 100\n",
      "4 100\n",
      "5 100\n",
      "6 100\n",
      "7 100\n",
      "8 100\n",
      "9 100\n"
     ]
    }
   ],
   "source": [
    "# loop through all folders and grab filenames ending with 'warped.png', store in 2D list\n",
    "warped = []\n",
    "for folder in folders:\n",
    "    files = os.listdir('output/plot_combine_results/' + folder)\n",
    "    warped.append([f\"{folder}/{f}\" for f in files if re.match(r'.*warped.png$', f)])\n",
    "\n",
    "# sort files by name\n",
    "for w in warped:\n",
    "    w.sort()\n",
    "# print(warped)\n",
    "print(len(warped))\n",
    "for i, w in enumerate(warped):\n",
    "    print(i+1, len(w))"
   ]
  },
  {
   "cell_type": "code",
   "execution_count": null,
   "metadata": {},
   "outputs": [],
   "source": []
  }
 ],
 "metadata": {
  "kernelspec": {
   "display_name": ".venv",
   "language": "python",
   "name": "python3"
  },
  "language_info": {
   "codemirror_mode": {
    "name": "ipython",
    "version": 3
   },
   "file_extension": ".py",
   "mimetype": "text/x-python",
   "name": "python",
   "nbconvert_exporter": "python",
   "pygments_lexer": "ipython3",
   "version": "3.10.12"
  }
 },
 "nbformat": 4,
 "nbformat_minor": 2
}
