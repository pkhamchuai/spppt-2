{
 "cells": [
  {
   "cell_type": "markdown",
   "metadata": {},
   "source": [
    "File for creating figures for the proposal. "
   ]
  },
  {
   "cell_type": "code",
   "execution_count": 1,
   "metadata": {},
   "outputs": [],
   "source": [
    "from utils.utils0 import tensor_affine_transform"
   ]
  },
  {
   "cell_type": "code",
   "execution_count": null,
   "metadata": {},
   "outputs": [],
   "source": [
    "def plot_grid(ax, gridx, gridy, **kwargs):\n",
    "    for i in range(gridx.shape[0]):\n",
    "        ax.plot(gridx[i, :], gridy[i, :], **kwargs)\n",
    "    for i in range(gridx.shape[1]):\n",
    "        ax.plot(gridx[:, i], gridy[:, i], **kwargs)"
   ]
  },
  {
   "cell_type": "code",
   "execution_count": null,
   "metadata": {},
   "outputs": [],
   "source": [
    "# create a grid of size 256 x 256\n"
   ]
  }
 ],
 "metadata": {
  "kernelspec": {
   "display_name": ".venv",
   "language": "python",
   "name": "python3"
  },
  "language_info": {
   "codemirror_mode": {
    "name": "ipython",
    "version": 3
   },
   "file_extension": ".py",
   "mimetype": "text/x-python",
   "name": "python",
   "nbconvert_exporter": "python",
   "pygments_lexer": "ipython3",
   "version": "3.10.12"
  }
 },
 "nbformat": 4,
 "nbformat_minor": 2
}
