{
 "cells": [
  {
   "cell_type": "markdown",
   "metadata": {},
   "source": [
    "# DVF choosing"
   ]
  },
  {
   "cell_type": "code",
   "execution_count": 2,
   "metadata": {},
   "outputs": [
    {
     "name": "stdout",
     "output_type": "stream",
     "text": [
      "Device: cuda\n",
      "Device: cuda\n"
     ]
    }
   ],
   "source": [
    "import torch\n",
    "import torch.nn as nn\n",
    "from torch.functional import F\n",
    "from utils.utils0 import *\n",
    "from utils.utils1 import *\n",
    "from utils.utils1 import ModelParams, model_loader, print_summary#, test_repeat\n",
    "import matplotlib.pyplot as plt\n",
    "\n",
    "device = torch.device(\"cuda\" if torch.cuda.is_available() else \"cpu\")\n",
    "print(f'Device: {device}')\n",
    "\n",
    "mse = nn.MSELoss()"
   ]
  },
  {
   "cell_type": "code",
   "execution_count": 4,
   "metadata": {},
   "outputs": [
    {
     "name": "stdout",
     "output_type": "stream",
     "text": [
      "Model name:  dataset2_sup1_image1_points0_loss_image0\n",
      "Model code:  21100_0.001_0_10_1\n",
      "Model params:  {'dataset': 2, 'sup': 1, 'image': 1, 'points': 0, 'loss_image_case': 0, 'loss_image': MSELoss(), 'loss_affine': <utils.utils1.loss_affine object at 0x7f7388e2bd60>, 'learning_rate': 0.001, 'decay_rate': 0.96, 'start_epoch': 0, 'num_epochs': 10, 'batch_size': 1, 'model_name': 'dataset2_sup1_image1_points0_loss_image0'}\n"
     ]
    }
   ],
   "source": [
    "model_params = ModelParams(dataset=2, sup=1)\n",
    "test_dataset = datagen(model_params.dataset, False, model_params.sup)\n"
   ]
  },
  {
   "cell_type": "code",
   "execution_count": 18,
   "metadata": {},
   "outputs": [],
   "source": [
    "# draw a pair of images from the test set\n",
    "A, B, affine_param, pt1, pt2, pt3 = list(test_dataset)[0]"
   ]
  },
  {
   "cell_type": "code",
   "execution_count": 15,
   "metadata": {},
   "outputs": [],
   "source": [
    "A = torch.concat([A, B], dim=0)[0]"
   ]
  },
  {
   "cell_type": "code",
   "execution_count": 16,
   "metadata": {},
   "outputs": [
    {
     "data": {
      "text/plain": [
       "(torch.Size([1, 108, 2]), torch.Size([1, 108, 2]), torch.Size([1, 108, 2]))"
      ]
     },
     "execution_count": 16,
     "metadata": {},
     "output_type": "execute_result"
    }
   ],
   "source": [
    "pt1.shape, pt2.shape, pt3.shape"
   ]
  },
  {
   "cell_type": "code",
   "execution_count": 32,
   "metadata": {},
   "outputs": [],
   "source": [
    "def transform_points_DVF(points, M, image):\n",
    "    # transform points using displacement field\n",
    "    # DVF.shape = (2, H, W)\n",
    "    # points.shape = (2, N)\n",
    "    displacement_field = torch.zeros(image.shape[-1], image.shape[-1])\n",
    "    DVF = transform_to_displacement_field(\n",
    "        displacement_field.view(1, 1, displacement_field.size(0), displacement_field.size(1)), \n",
    "        M.view(1, 2, 3))\n",
    "\n",
    "    # Reshape tensor points to have dimensions [2, N]\n",
    "    points = points.long()\n",
    "\n",
    "    # Use torch.gather to select values from A using indices from points\n",
    "    result = DVF[:, points[:, 0], points[:, 1]]\n",
    "\n",
    "    # Reshape result to have dimensions [2, N]\n",
    "    result = result.t()\n",
    "    # subtract the result from the original points\n",
    "    points = points.float()\n",
    "    result = torch.subtract(points, result)\n",
    "    return result\n",
    "\n",
    "# def transform_points_DVF(points, M, image):\n",
    "#     # transform points using displacement field\n",
    "#     # DVF.shape = (2, H, W)\n",
    "#     # points.shape = (2, N)\n",
    "#     displacement_field = torch.zeros(image.shape[-1], image.shape[-1])\n",
    "#     DVF = transform_to_displacement_field(\n",
    "#         displacement_field.view(1, 1, displacement_field.size(0), displacement_field.size(1)), \n",
    "#         M.clone().view(1, 2, 3))\n",
    "#     if isinstance(DVF, torch.Tensor):\n",
    "#         DVF = DVF.numpy()\n",
    "#     # loop through each point and apply the transformation\n",
    "#     for i in range(points.shape[1]):\n",
    "#         points[:, i] = points[:, i] - DVF[:, int(points[1, i]), int(points[0, i])]\n",
    "#     return points"
   ]
  },
  {
   "cell_type": "code",
   "execution_count": 31,
   "metadata": {},
   "outputs": [
    {
     "name": "stdout",
     "output_type": "stream",
     "text": [
      "torch.Size([2, 108])\n"
     ]
    }
   ],
   "source": [
    "transform_points = transform_points_DVF(pt1[0], affine_param[0], A)"
   ]
  },
  {
   "cell_type": "code",
   "execution_count": 35,
   "metadata": {},
   "outputs": [
    {
     "data": {
      "image/png": "[encoded data removed]",
      "text/plain": [
       "<Figure size 640x480 with 1 Axes>"
      ]
     },
     "metadata": {},
     "output_type": "display_data"
    }
   ],
   "source": [
    "# scatter plot of the points pt1[0], pt2[0], transformed_points, \n",
    "\n",
    "plt.scatter(pt1[0][0], pt1[0][1], c='r')\n",
    "plt.scatter(pt2[0][0], pt2[0][1], c='b')\n",
    "plt.scatter(transform_points[0], transform_points[1], c='g')\n",
    "plt.show()"
   ]
  },
  {
   "cell_type": "code",
   "execution_count": 17,
   "metadata": {},
   "outputs": [
    {
     "name": "stdout",
     "output_type": "stream",
     "text": [
      "tensor([[0.6353, 0.1961, 0.5686, 0.2588, 0.6941, 0.6902, 0.1725, 0.5255, 0.6863,\n",
      "         0.3020, 0.2039, 0.3765, 0.2588, 0.3098, 0.0902, 0.5608, 0.7569, 0.7412,\n",
      "         0.2118, 0.3647, 0.2863, 0.6863, 0.3765, 0.1333, 0.2353, 0.6980, 0.3451,\n",
      "         0.2627, 0.7255, 0.1020, 0.6549, 0.6745, 0.6549, 0.1843, 0.5294, 0.5255,\n",
      "         0.2824, 0.9922, 0.4627, 0.2902, 0.2471, 0.1137, 0.7020, 0.6000, 0.3490,\n",
      "         0.5176, 0.2588, 0.5490, 0.0549, 0.3216, 0.5490, 0.2353, 0.3373, 0.0941,\n",
      "         0.4196, 0.5843, 0.2667, 0.6902, 0.1725, 0.8275, 0.5490, 0.5176, 0.3725,\n",
      "         0.5020, 0.3922, 0.2235, 0.1412, 0.2824, 0.5373, 0.0941, 0.0706, 0.7020,\n",
      "         0.3608, 0.6118, 0.4353, 0.0627, 0.1020, 0.7843, 0.7412, 0.2549, 0.8118,\n",
      "         0.5216, 0.6314, 0.1255, 0.3529, 0.6157, 0.3412, 0.5098, 0.3882, 0.3686,\n",
      "         0.0784, 0.5176, 0.5843, 0.0471, 0.4980, 0.6980, 0.6039, 0.3373, 0.5020,\n",
      "         0.4627, 0.2510, 0.2000, 0.0863, 0.7412, 0.6000, 0.3137, 0.6902, 0.3529]])\n"
     ]
    }
   ],
   "source": [
    "# Reshape tensor points to have dimensions [2, N]\n",
    "points = pt1[0].long()\n",
    "\n",
    "# Use torch.gather to select values from A using indices from points\n",
    "result = A[:, points[:, 0], points[:, 1]]\n",
    "\n",
    "print(result)\n"
   ]
  },
  {
   "cell_type": "code",
   "execution_count": 26,
   "metadata": {},
   "outputs": [
    {
     "data": {
      "text/plain": [
       "torch.Size([2, 20])"
      ]
     },
     "execution_count": 26,
     "metadata": {},
     "output_type": "execute_result"
    }
   ],
   "source": [
    "result.shape"
   ]
  },
  {
   "cell_type": "markdown",
   "metadata": {},
   "source": [
    "# Affine transformation"
   ]
  },
  {
   "cell_type": "markdown",
   "metadata": {},
   "source": [
    "## Method 1"
   ]
  },
  {
   "cell_type": "code",
   "execution_count": 27,
   "metadata": {},
   "outputs": [],
   "source": [
    "class AffineTransform(nn.Module):\n",
    "    def __init__(self):\n",
    "        super(AffineTransform, self).__init__()\n",
    "\n",
    "    def forward(self, points, matrix):\n",
    "        points = points.T\n",
    "        # Add a row of ones to the input points for the affine transformation\n",
    "        ones = torch.ones(1, points.size(1), dtype=points.dtype, device=points.device)\n",
    "        points_homogeneous = torch.cat([points, ones], dim=0)\n",
    "\n",
    "        # Apply the affine transformation\n",
    "        # print dtype of matrix and points_homogeneous\n",
    "        transformed_points = torch.mm(matrix, points_homogeneous.float())\n",
    "\n",
    "        return transformed_points[:2, :]"
   ]
  },
  {
   "cell_type": "code",
   "execution_count": 28,
   "metadata": {},
   "outputs": [],
   "source": [
    "affine_layer = AffineTransform()"
   ]
  },
  {
   "cell_type": "code",
   "execution_count": 29,
   "metadata": {},
   "outputs": [],
   "source": [
    "affine_param = torch.tensor([[1.0, 0.0, 0.0],\n",
    "                                [0.0, 1.0, 0.0]])"
   ]
  },
  {
   "cell_type": "code",
   "execution_count": 30,
   "metadata": {},
   "outputs": [
    {
     "data": {
      "text/plain": [
       "tensor([[141., 175.],\n",
       "        [196.,  75.],\n",
       "        [249.,   0.],\n",
       "        [  9.,  36.],\n",
       "        [142.,  90.],\n",
       "        [ 64.,   0.],\n",
       "        [136., 213.],\n",
       "        [ 48., 122.],\n",
       "        [ 76., 243.],\n",
       "        [148., 242.],\n",
       "        [ 53., 208.],\n",
       "        [231.,  69.],\n",
       "        [ 10., 200.],\n",
       "        [  0., 148.],\n",
       "        [ 76., 161.],\n",
       "        [151., 189.],\n",
       "        [129., 164.],\n",
       "        [ 95., 168.],\n",
       "        [201.,  10.],\n",
       "        [167.,  97.]])"
      ]
     },
     "execution_count": 30,
     "metadata": {},
     "output_type": "execute_result"
    }
   ],
   "source": [
    "transformed_points = affine_layer(points, affine_param)\n",
    "transformed_points.T"
   ]
  },
  {
   "cell_type": "markdown",
   "metadata": {},
   "source": [
    "## Method 2"
   ]
  },
  {
   "cell_type": "code",
   "execution_count": 31,
   "metadata": {},
   "outputs": [],
   "source": [
    "def transform_to_displacement_field(tensor, tensor_transform, device='cpu'):\n",
    "    \"\"\"\n",
    "    Transforms a tensor using an affine transformation matrix and returns the corresponding displacement field.\n",
    "\n",
    "    Args:\n",
    "        tensor (torch.Tensor): The input tensor to transform, with shape (batch_size, channels, height, width).\n",
    "        tensor_transform (torch.Tensor): The affine transformation matrix, with shape (batch_size, 2, 3).\n",
    "        device (str, optional): The device to use for the computation (default: 'cpu').\n",
    "\n",
    "    Returns:\n",
    "        torch.Tensor: The displacement field tensor, with shape (2, height, width).\n",
    "    \"\"\"\n",
    "    # function code here\n",
    "    y_size, x_size = tensor.size(2), tensor.size(3)\n",
    "    deformation_field = F.affine_grid(tensor_transform, tensor.size(), align_corners=False)\n",
    "    gy, gx = torch.meshgrid(torch.arange(y_size), torch.arange(x_size))\n",
    "    gy = gy.type(torch.FloatTensor).to(device)\n",
    "    gx = gx.type(torch.FloatTensor).to(device)\n",
    "    grid_x = (gx / (x_size - 1) - 0.5) * 2\n",
    "    grid_y = (gy / (y_size - 1) - 0.5) * 2\n",
    "    u_x = deformation_field[0, :, :, 0] - grid_x\n",
    "    u_y = deformation_field[0, :, :, 1] - grid_y\n",
    "    u_x = u_x / 2 * (x_size - 1)\n",
    "    u_y = u_y / 2 * (y_size - 1)\n",
    "    displacement_field = torch.cat((u_x.view(1, y_size, x_size), u_y.view(1, y_size, x_size)), dim=0)\n",
    "    return displacement_field"
   ]
  },
  {
   "cell_type": "code",
   "execution_count": 32,
   "metadata": {},
   "outputs": [],
   "source": [
    "def transform_points_DVF(points, M, image):\n",
    "    # transform points using displacement field\n",
    "    # DVF.shape = (2, H, W)\n",
    "    # points.shape = (2, N)\n",
    "    displacement_field = torch.zeros(image.shape[-1], image.shape[-1])\n",
    "    DVF = transform_to_displacement_field(\n",
    "        displacement_field.view(1, 1, displacement_field.size(0), displacement_field.size(1)), \n",
    "        M.view(1, 2, 3))\n",
    "\n",
    "    # Reshape tensor points to have dimensions [2, N]\n",
    "    points = points.t().long()\n",
    "\n",
    "    # Use torch.gather to select values from A using indices from points\n",
    "    result = DVF[:, points[:, 0], points[:, 1]]\n",
    "\n",
    "    # Reshape result to have dimensions [2, N]\n",
    "    result = result.t()\n",
    "    # subtract the result from the original points\n",
    "    points = points.float()\n",
    "    result = torch.subtract(points, result)\n",
    "    return result"
   ]
  },
  {
   "cell_type": "code",
   "execution_count": 33,
   "metadata": {},
   "outputs": [
    {
     "data": {
      "text/plain": [
       "tensor([[ 1.4119e+02,  1.7505e+02],\n",
       "        [ 1.9579e+02,  7.5268e+01],\n",
       "        [ 2.4850e+02,  4.7461e-01],\n",
       "        [ 8.6426e+00,  3.5537e+01],\n",
       "        [ 1.4185e+02,  9.0057e+01],\n",
       "        [ 6.3502e+01, -2.4805e-01],\n",
       "        [ 1.3633e+02,  2.1303e+02],\n",
       "        [ 4.7979e+01,  1.2169e+02],\n",
       "        [ 7.6451e+01,  2.4280e+02],\n",
       "        [ 1.4845e+02,  2.4208e+02],\n",
       "        [ 5.3314e+01,  2.0771e+02],\n",
       "        [ 2.3077e+02,  6.9404e+01],\n",
       "        [ 1.0283e+01,  1.9954e+02],\n",
       "        [ 8.0092e-02,  1.4750e+02],\n",
       "        [ 7.6131e+01,  1.6080e+02],\n",
       "        [ 1.5124e+02,  1.8909e+02],\n",
       "        [ 1.2914e+02,  1.6401e+02],\n",
       "        [ 9.5158e+01,  1.6787e+02],\n",
       "        [ 2.0054e+02,  1.0287e+01],\n",
       "        [ 1.6688e+02,  9.7154e+01]])"
      ]
     },
     "execution_count": 33,
     "metadata": {},
     "output_type": "execute_result"
    }
   ],
   "source": [
    "transformed_points = transform_points_DVF(points.T, affine_param, A)\n",
    "transformed_points"
   ]
  },
  {
   "cell_type": "code",
   "execution_count": null,
   "metadata": {},
   "outputs": [],
   "source": []
  }
 ],
 "metadata": {
  "kernelspec": {
   "display_name": "spppt",
   "language": "python",
   "name": "python3"
  },
  "language_info": {
   "codemirror_mode": {
    "name": "ipython",
    "version": 3
   },
   "file_extension": ".py",
   "mimetype": "text/x-python",
   "name": "python",
   "nbconvert_exporter": "python",
   "pygments_lexer": "ipython3",
   "version": "3.8.18"
  }
 },
 "nbformat": 4,
 "nbformat_minor": 2
}
